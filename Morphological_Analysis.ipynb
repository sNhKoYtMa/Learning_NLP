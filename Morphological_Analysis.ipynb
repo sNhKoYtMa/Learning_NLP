{
  "nbformat": 4,
  "nbformat_minor": 0,
  "metadata": {
    "colab": {
      "name": "Morphological_Analysis.ipynb",
      "provenance": [],
      "mount_file_id": "1FwNclgVEaHwisus-oAchSwOlBNOEYP-E",
      "authorship_tag": "ABX9TyOKUuUDcZdVnvGA2XqkEYU0"
    },
    "kernelspec": {
      "name": "python3",
      "display_name": "Python 3"
    }
  },
  "cells": [
    {
      "cell_type": "markdown",
      "metadata": {
        "id": "VMw6P2-Em2Pd",
        "colab_type": "text"
      },
      "source": [
        "# Morphological Analysis\n",
        "内容：形態素解析の実行<br>\n",
        "MeCabとsentencepieceを両方やる<br>\n",
        "実行環境: google Colab"
      ]
    },
    {
      "cell_type": "markdown",
      "metadata": {
        "id": "Gh4h_qj-noqo",
        "colab_type": "text"
      },
      "source": [
        "データの取得"
      ]
    },
    {
      "cell_type": "code",
      "metadata": {
        "id": "L71GNXrymTQh",
        "colab_type": "code",
        "outputId": "6b6a451c-4510-44d3-c932-7481e82ffcc9",
        "colab": {
          "base_uri": "https://localhost:8080/",
          "height": 271
        }
      },
      "source": [
        "import pandas as pd\n",
        "df = pd.read_csv('/content/drive/My Drive/Colaboratory_file/NLP/neko_preprocessed.csv')\n",
        "df.head() # 確認"
      ],
      "execution_count": 0,
      "outputs": [
        {
          "output_type": "execute_result",
          "data": {
            "text/html": [
              "<div>\n",
              "<style scoped>\n",
              "    .dataframe tbody tr th:only-of-type {\n",
              "        vertical-align: middle;\n",
              "    }\n",
              "\n",
              "    .dataframe tbody tr th {\n",
              "        vertical-align: top;\n",
              "    }\n",
              "\n",
              "    .dataframe thead th {\n",
              "        text-align: right;\n",
              "    }\n",
              "</style>\n",
              "<table border=\"1\" class=\"dataframe\">\n",
              "  <thead>\n",
              "    <tr style=\"text-align: right;\">\n",
              "      <th></th>\n",
              "      <th>raw</th>\n",
              "      <th>preprocessed</th>\n",
              "    </tr>\n",
              "  </thead>\n",
              "  <tbody>\n",
              "    <tr>\n",
              "      <th>0</th>\n",
              "      <td>吾輩《わがはい》は猫である。名前はまだ無い。</td>\n",
              "      <td>吾輩は猫である。名前はまだ無い。</td>\n",
              "    </tr>\n",
              "    <tr>\n",
              "      <th>1</th>\n",
              "      <td>どこで生れたかとんと見当《けんとう》がつかぬ。何でも薄暗いじめじめした所でニャーニャー泣い...</td>\n",
              "      <td>どこで生れたかとんと見当がつかぬ。何でも薄暗いじめじめした所でニャーニャー泣いていた事だけ...</td>\n",
              "    </tr>\n",
              "    <tr>\n",
              "      <th>2</th>\n",
              "      <td>この書生の掌の裏《うち》でしばらくはよい心持に坐っておったが、しばらくすると非常な速力で運...</td>\n",
              "      <td>この書生の掌の裏でしばらくはよい心持に坐っておったが、しばらくすると非常な速力で運転し始め...</td>\n",
              "    </tr>\n",
              "    <tr>\n",
              "      <th>3</th>\n",
              "      <td>ふと気が付いて見ると書生はいない。たくさんおった兄弟が一｜疋《ぴき》も見えぬ。肝心《かんじ...</td>\n",
              "      <td>ふと気が付いて見ると書生はいない。たくさんおった兄弟が一疋も見えぬ。肝心の母親さえ姿を隠し...</td>\n",
              "    </tr>\n",
              "    <tr>\n",
              "      <th>4</th>\n",
              "      <td>ようやくの思いで笹原を這い出すと向うに大きな池がある。吾輩は池の前に坐ってどうしたらよかろ...</td>\n",
              "      <td>ようやくの思いで笹原を這い出すと向うに大きな池がある。吾輩は池の前に坐ってどうしたらよかろ...</td>\n",
              "    </tr>\n",
              "  </tbody>\n",
              "</table>\n",
              "</div>"
            ],
            "text/plain": [
              "                                                 raw                                       preprocessed\n",
              "0                            　吾輩《わがはい》は猫である。名前はまだ無い。                                  　吾輩は猫である。名前はまだ無い。\n",
              "1  　どこで生れたかとんと見当《けんとう》がつかぬ。何でも薄暗いじめじめした所でニャーニャー泣い...  　どこで生れたかとんと見当がつかぬ。何でも薄暗いじめじめした所でニャーニャー泣いていた事だけ...\n",
              "2  　この書生の掌の裏《うち》でしばらくはよい心持に坐っておったが、しばらくすると非常な速力で運...  　この書生の掌の裏でしばらくはよい心持に坐っておったが、しばらくすると非常な速力で運転し始め...\n",
              "3  　ふと気が付いて見ると書生はいない。たくさんおった兄弟が一｜疋《ぴき》も見えぬ。肝心《かんじ...  　ふと気が付いて見ると書生はいない。たくさんおった兄弟が一疋も見えぬ。肝心の母親さえ姿を隠し...\n",
              "4  　ようやくの思いで笹原を這い出すと向うに大きな池がある。吾輩は池の前に坐ってどうしたらよかろ...  　ようやくの思いで笹原を這い出すと向うに大きな池がある。吾輩は池の前に坐ってどうしたらよかろ..."
            ]
          },
          "metadata": {
            "tags": []
          },
          "execution_count": 2
        }
      ]
    },
    {
      "cell_type": "markdown",
      "metadata": {
        "id": "D1XienEwse0I",
        "colab_type": "text"
      },
      "source": [
        ""
      ]
    },
    {
      "cell_type": "markdown",
      "metadata": {
        "id": "eW7ln3NSn3sN",
        "colab_type": "text"
      },
      "source": [
        "# MeCab"
      ]
    },
    {
      "cell_type": "code",
      "metadata": {
        "id": "3fLvWmKOmUXC",
        "colab_type": "code",
        "outputId": "5a517493-d5db-4a18-eb0b-1e6b825a08fc",
        "colab": {
          "base_uri": "https://localhost:8080/",
          "height": 143
        }
      },
      "source": [
        "!apt-get -q -y install sudo file mecab libmecab-dev mecab-ipadic-utf8 git curl python-mecab > /dev/null\n",
        "!git clone --depth 1 https://github.com/neologd/mecab-ipadic-neologd.git > /dev/null \n",
        "!echo yes | mecab-ipadic-neologd/bin/install-mecab-ipadic-neologd -n > /dev/null 2>&1\n",
        "!pip install mecab-python3==0.996.5 > /dev/null\n",
        "!echo mecab-config --dicdir\"/mecab-ipadic-neologd\""
      ],
      "execution_count": 0,
      "outputs": [
        {
          "output_type": "stream",
          "text": [
            "Cloning into 'mecab-ipadic-neologd'...\n",
            "remote: Enumerating objects: 75, done.\u001b[K\n",
            "remote: Counting objects: 100% (75/75), done.\u001b[K\n",
            "remote: Compressing objects: 100% (74/74), done.\u001b[K\n",
            "remote: Total 75 (delta 5), reused 54 (delta 0), pack-reused 0\u001b[K\n",
            "Unpacking objects: 100% (75/75), done.\n",
            "mecab-config --dicdir/mecab-ipadic-neologd\n"
          ],
          "name": "stdout"
        }
      ]
    },
    {
      "cell_type": "code",
      "metadata": {
        "id": "bY_lfAwZpluC",
        "colab_type": "code",
        "outputId": "ca3e3935-33a5-410b-a571-9d6086880805",
        "colab": {
          "base_uri": "https://localhost:8080/",
          "height": 53
        }
      },
      "source": [
        "import MeCab\n",
        "m = MeCab.Tagger('-Owakati')\n",
        "wakati = m.parse('COVID-19のせいで就職氷河期になりそうでぴえんって感じ')\n",
        "print(wakati) # COVID-19, 就職氷河期, ぴえん を1単語とみなせていない"
      ],
      "execution_count": 0,
      "outputs": [
        {
          "output_type": "stream",
          "text": [
            "COVID - 19 の せい で 就職 氷河期 に なり そう で ぴえんって 感じ \n",
            "\n"
          ],
          "name": "stdout"
        }
      ]
    },
    {
      "cell_type": "code",
      "metadata": {
        "id": "mhdpo6VMmUUu",
        "colab_type": "code",
        "outputId": "b72d47ab-0b95-4fd3-e5cd-e9b49cb34c3a",
        "colab": {
          "base_uri": "https://localhost:8080/",
          "height": 53
        }
      },
      "source": [
        "m = MeCab.Tagger('-Owakati -d /usr/lib/x86_64-linux-gnu/mecab/dic/mecab-ipadic-neologd')\n",
        "wakati = m.parse('COVID-19のせいで就職氷河期になりそうでぴえんって感じ')\n",
        "print(wakati) # ちゃんとNEologdが使えていることを確認"
      ],
      "execution_count": 0,
      "outputs": [
        {
          "output_type": "stream",
          "text": [
            "COVID-19 の せい で 就職氷河期 に なり そう で ぴえん って 感じ \n",
            "\n"
          ],
          "name": "stdout"
        }
      ]
    },
    {
      "cell_type": "markdown",
      "metadata": {
        "id": "fMiJ2KOrpDe4",
        "colab_type": "text"
      },
      "source": [
        "形態素解析の関数定義"
      ]
    },
    {
      "cell_type": "code",
      "metadata": {
        "id": "1hHhLCaGmUSb",
        "colab_type": "code",
        "colab": {}
      },
      "source": [
        "def mecab_tokenizer(text):\n",
        "    m = MeCab.Tagger('d /usr/lib/x86_64-linux-gnu/mecab/dic/mecab-ipadic-neologd')\n",
        "    node = m.parseToNode(text)\n",
        "    wordtype_list = ['名詞','動詞','形容詞']\n",
        "    subtype_list = ['数', '非自立', '代名詞','接尾']\n",
        "    output = []\n",
        "    while node:\n",
        "        if node.surface != '':\n",
        "            wordtype = node.feature.split(',')[0]\n",
        "            subtype = node.feature.split(',')[1]\n",
        "            original = node.feature.split(',')[6]\n",
        "            if wordtype in wordtype_list and subtype not in subtype_list and original != '*':\n",
        "                output.append(original)\n",
        "        node = node.next\n",
        "        if node is None:\n",
        "            break\n",
        "    return output"
      ],
      "execution_count": 0,
      "outputs": []
    },
    {
      "cell_type": "markdown",
      "metadata": {
        "id": "uI2oo2SFqf2P",
        "colab_type": "text"
      },
      "source": [
        "分かち書きの実行(MeCab)"
      ]
    },
    {
      "cell_type": "code",
      "metadata": {
        "id": "LtRkSI7VnQlR",
        "colab_type": "code",
        "colab": {}
      },
      "source": [
        "df['wakati_mecab'] = df['preprocessed'].apply(lambda x: ' '.join(mecab_tokenizer(x)))"
      ],
      "execution_count": 0,
      "outputs": []
    },
    {
      "cell_type": "code",
      "metadata": {
        "id": "WHBxDUMTnQiC",
        "colab_type": "code",
        "outputId": "c60de2ac-1d37-479b-8858-490c841855d7",
        "colab": {
          "base_uri": "https://localhost:8080/",
          "height": 271
        }
      },
      "source": [
        "df.head() # 確認"
      ],
      "execution_count": 0,
      "outputs": [
        {
          "output_type": "execute_result",
          "data": {
            "text/html": [
              "<div>\n",
              "<style scoped>\n",
              "    .dataframe tbody tr th:only-of-type {\n",
              "        vertical-align: middle;\n",
              "    }\n",
              "\n",
              "    .dataframe tbody tr th {\n",
              "        vertical-align: top;\n",
              "    }\n",
              "\n",
              "    .dataframe thead th {\n",
              "        text-align: right;\n",
              "    }\n",
              "</style>\n",
              "<table border=\"1\" class=\"dataframe\">\n",
              "  <thead>\n",
              "    <tr style=\"text-align: right;\">\n",
              "      <th></th>\n",
              "      <th>raw</th>\n",
              "      <th>preprocessed</th>\n",
              "      <th>wakati_mecab</th>\n",
              "    </tr>\n",
              "  </thead>\n",
              "  <tbody>\n",
              "    <tr>\n",
              "      <th>0</th>\n",
              "      <td>吾輩《わがはい》は猫である。名前はまだ無い。</td>\n",
              "      <td>吾輩は猫である。名前はまだ無い。</td>\n",
              "      <td>猫 名前 無い</td>\n",
              "    </tr>\n",
              "    <tr>\n",
              "      <th>1</th>\n",
              "      <td>どこで生れたかとんと見当《けんとう》がつかぬ。何でも薄暗いじめじめした所でニャーニャー泣い...</td>\n",
              "      <td>どこで生れたかとんと見当がつかぬ。何でも薄暗いじめじめした所でニャーニャー泣いていた事だけ...</td>\n",
              "      <td>生れる 見当 つく 薄暗い する 泣く いた事 記憶 する 始める 人間 見る あと 聞く ...</td>\n",
              "    </tr>\n",
              "    <tr>\n",
              "      <th>2</th>\n",
              "      <td>この書生の掌の裏《うち》でしばらくはよい心持に坐っておったが、しばらくすると非常な速力で運...</td>\n",
              "      <td>この書生の掌の裏でしばらくはよい心持に坐っておったが、しばらくすると非常な速力で運転し始め...</td>\n",
              "      <td>書生 掌 裏 よい 心持 坐る おる する 非常 速力 運転 する 書生 動く 自分 動く ...</td>\n",
              "    </tr>\n",
              "    <tr>\n",
              "      <th>3</th>\n",
              "      <td>ふと気が付いて見ると書生はいない。たくさんおった兄弟が一｜疋《ぴき》も見えぬ。肝心《かんじ...</td>\n",
              "      <td>ふと気が付いて見ると書生はいない。たくさんおった兄弟が一疋も見えぬ。肝心の母親さえ姿を隠し...</td>\n",
              "      <td>気 付く 見る 書生 いる たくさん おる 兄弟 一疋 見える 肝心 母親 姿 隠す 上今 ...</td>\n",
              "    </tr>\n",
              "    <tr>\n",
              "      <th>4</th>\n",
              "      <td>ようやくの思いで笹原を這い出すと向うに大きな池がある。吾輩は池の前に坐ってどうしたらよかろ...</td>\n",
              "      <td>ようやくの思いで笹原を這い出すと向うに大きな池がある。吾輩は池の前に坐ってどうしたらよかろ...</td>\n",
              "      <td>思い 笹原 這い出す 向う 池 ある 池 前 坐る する よい 考える 見る 分別 出る す...</td>\n",
              "    </tr>\n",
              "  </tbody>\n",
              "</table>\n",
              "</div>"
            ],
            "text/plain": [
              "                                                 raw  ...                                       wakati_mecab\n",
              "0                            　吾輩《わがはい》は猫である。名前はまだ無い。  ...                                            猫 名前 無い\n",
              "1  　どこで生れたかとんと見当《けんとう》がつかぬ。何でも薄暗いじめじめした所でニャーニャー泣い...  ...  生れる 見当 つく 薄暗い する 泣く いた事 記憶 する 始める 人間 見る あと 聞く ...\n",
              "2  　この書生の掌の裏《うち》でしばらくはよい心持に坐っておったが、しばらくすると非常な速力で運...  ...  書生 掌 裏 よい 心持 坐る おる する 非常 速力 運転 する 書生 動く 自分 動く ...\n",
              "3  　ふと気が付いて見ると書生はいない。たくさんおった兄弟が一｜疋《ぴき》も見えぬ。肝心《かんじ...  ...  気 付く 見る 書生 いる たくさん おる 兄弟 一疋 見える 肝心 母親 姿 隠す 上今 ...\n",
              "4  　ようやくの思いで笹原を這い出すと向うに大きな池がある。吾輩は池の前に坐ってどうしたらよかろ...  ...  思い 笹原 這い出す 向う 池 ある 池 前 坐る する よい 考える 見る 分別 出る す...\n",
              "\n",
              "[5 rows x 3 columns]"
            ]
          },
          "metadata": {
            "tags": []
          },
          "execution_count": 18
        }
      ]
    },
    {
      "cell_type": "markdown",
      "metadata": {
        "id": "kJhoQ9WIrSe2",
        "colab_type": "text"
      },
      "source": [
        "# sentencepiece"
      ]
    },
    {
      "cell_type": "code",
      "metadata": {
        "id": "b3Cg1s2vnQfS",
        "colab_type": "code",
        "outputId": "064269fd-c558-4c53-e24c-0806f8051151",
        "colab": {
          "base_uri": "https://localhost:8080/",
          "height": 127
        }
      },
      "source": [
        "!pip install sentencepiece \n",
        "import sentencepiece as spm"
      ],
      "execution_count": 0,
      "outputs": [
        {
          "output_type": "stream",
          "text": [
            "Collecting sentencepiece\n",
            "\u001b[?25l  Downloading https://files.pythonhosted.org/packages/74/f4/2d5214cbf13d06e7cb2c20d84115ca25b53ea76fa1f0ade0e3c9749de214/sentencepiece-0.1.85-cp36-cp36m-manylinux1_x86_64.whl (1.0MB)\n",
            "\r\u001b[K     |▎                               | 10kB 15.1MB/s eta 0:00:01\r\u001b[K     |▋                               | 20kB 2.1MB/s eta 0:00:01\r\u001b[K     |█                               | 30kB 3.0MB/s eta 0:00:01\r\u001b[K     |█▎                              | 40kB 2.0MB/s eta 0:00:01\r\u001b[K     |█▋                              | 51kB 2.4MB/s eta 0:00:01\r\u001b[K     |██                              | 61kB 2.9MB/s eta 0:00:01\r\u001b[K     |██▏                             | 71kB 3.4MB/s eta 0:00:01\r\u001b[K     |██▌                             | 81kB 2.6MB/s eta 0:00:01\r\u001b[K     |██▉                             | 92kB 2.9MB/s eta 0:00:01\r\u001b[K     |███▏                            | 102kB 3.2MB/s eta 0:00:01\r\u001b[K     |███▌                            | 112kB 3.2MB/s eta 0:00:01\r\u001b[K     |███▉                            | 122kB 3.2MB/s eta 0:00:01\r\u001b[K     |████                            | 133kB 3.2MB/s eta 0:00:01\r\u001b[K     |████▍                           | 143kB 3.2MB/s eta 0:00:01\r\u001b[K     |████▊                           | 153kB 3.2MB/s eta 0:00:01\r\u001b[K     |█████                           | 163kB 3.2MB/s eta 0:00:01\r\u001b[K     |█████▍                          | 174kB 3.2MB/s eta 0:00:01\r\u001b[K     |█████▊                          | 184kB 3.2MB/s eta 0:00:01\r\u001b[K     |██████                          | 194kB 3.2MB/s eta 0:00:01\r\u001b[K     |██████▎                         | 204kB 3.2MB/s eta 0:00:01\r\u001b[K     |██████▋                         | 215kB 3.2MB/s eta 0:00:01\r\u001b[K     |███████                         | 225kB 3.2MB/s eta 0:00:01\r\u001b[K     |███████▎                        | 235kB 3.2MB/s eta 0:00:01\r\u001b[K     |███████▋                        | 245kB 3.2MB/s eta 0:00:01\r\u001b[K     |███████▉                        | 256kB 3.2MB/s eta 0:00:01\r\u001b[K     |████████▏                       | 266kB 3.2MB/s eta 0:00:01\r\u001b[K     |████████▌                       | 276kB 3.2MB/s eta 0:00:01\r\u001b[K     |████████▉                       | 286kB 3.2MB/s eta 0:00:01\r\u001b[K     |█████████▏                      | 296kB 3.2MB/s eta 0:00:01\r\u001b[K     |█████████▌                      | 307kB 3.2MB/s eta 0:00:01\r\u001b[K     |█████████▊                      | 317kB 3.2MB/s eta 0:00:01\r\u001b[K     |██████████                      | 327kB 3.2MB/s eta 0:00:01\r\u001b[K     |██████████▍                     | 337kB 3.2MB/s eta 0:00:01\r\u001b[K     |██████████▊                     | 348kB 3.2MB/s eta 0:00:01\r\u001b[K     |███████████                     | 358kB 3.2MB/s eta 0:00:01\r\u001b[K     |███████████▍                    | 368kB 3.2MB/s eta 0:00:01\r\u001b[K     |███████████▋                    | 378kB 3.2MB/s eta 0:00:01\r\u001b[K     |████████████                    | 389kB 3.2MB/s eta 0:00:01\r\u001b[K     |████████████▎                   | 399kB 3.2MB/s eta 0:00:01\r\u001b[K     |████████████▋                   | 409kB 3.2MB/s eta 0:00:01\r\u001b[K     |█████████████                   | 419kB 3.2MB/s eta 0:00:01\r\u001b[K     |█████████████▎                  | 430kB 3.2MB/s eta 0:00:01\r\u001b[K     |█████████████▌                  | 440kB 3.2MB/s eta 0:00:01\r\u001b[K     |█████████████▉                  | 450kB 3.2MB/s eta 0:00:01\r\u001b[K     |██████████████▏                 | 460kB 3.2MB/s eta 0:00:01\r\u001b[K     |██████████████▌                 | 471kB 3.2MB/s eta 0:00:01\r\u001b[K     |██████████████▉                 | 481kB 3.2MB/s eta 0:00:01\r\u001b[K     |███████████████▏                | 491kB 3.2MB/s eta 0:00:01\r\u001b[K     |███████████████▍                | 501kB 3.2MB/s eta 0:00:01\r\u001b[K     |███████████████▊                | 512kB 3.2MB/s eta 0:00:01\r\u001b[K     |████████████████                | 522kB 3.2MB/s eta 0:00:01\r\u001b[K     |████████████████▍               | 532kB 3.2MB/s eta 0:00:01\r\u001b[K     |████████████████▊               | 542kB 3.2MB/s eta 0:00:01\r\u001b[K     |█████████████████               | 552kB 3.2MB/s eta 0:00:01\r\u001b[K     |█████████████████▎              | 563kB 3.2MB/s eta 0:00:01\r\u001b[K     |█████████████████▋              | 573kB 3.2MB/s eta 0:00:01\r\u001b[K     |██████████████████              | 583kB 3.2MB/s eta 0:00:01\r\u001b[K     |██████████████████▎             | 593kB 3.2MB/s eta 0:00:01\r\u001b[K     |██████████████████▋             | 604kB 3.2MB/s eta 0:00:01\r\u001b[K     |███████████████████             | 614kB 3.2MB/s eta 0:00:01\r\u001b[K     |███████████████████▏            | 624kB 3.2MB/s eta 0:00:01\r\u001b[K     |███████████████████▌            | 634kB 3.2MB/s eta 0:00:01\r\u001b[K     |███████████████████▉            | 645kB 3.2MB/s eta 0:00:01\r\u001b[K     |████████████████████▏           | 655kB 3.2MB/s eta 0:00:01\r\u001b[K     |████████████████████▌           | 665kB 3.2MB/s eta 0:00:01\r\u001b[K     |████████████████████▉           | 675kB 3.2MB/s eta 0:00:01\r\u001b[K     |█████████████████████▏          | 686kB 3.2MB/s eta 0:00:01\r\u001b[K     |█████████████████████▍          | 696kB 3.2MB/s eta 0:00:01\r\u001b[K     |█████████████████████▊          | 706kB 3.2MB/s eta 0:00:01\r\u001b[K     |██████████████████████          | 716kB 3.2MB/s eta 0:00:01\r\u001b[K     |██████████████████████▍         | 727kB 3.2MB/s eta 0:00:01\r\u001b[K     |██████████████████████▊         | 737kB 3.2MB/s eta 0:00:01\r\u001b[K     |███████████████████████         | 747kB 3.2MB/s eta 0:00:01\r\u001b[K     |███████████████████████▎        | 757kB 3.2MB/s eta 0:00:01\r\u001b[K     |███████████████████████▋        | 768kB 3.2MB/s eta 0:00:01\r\u001b[K     |████████████████████████        | 778kB 3.2MB/s eta 0:00:01\r\u001b[K     |████████████████████████▎       | 788kB 3.2MB/s eta 0:00:01\r\u001b[K     |████████████████████████▋       | 798kB 3.2MB/s eta 0:00:01\r\u001b[K     |█████████████████████████       | 808kB 3.2MB/s eta 0:00:01\r\u001b[K     |█████████████████████████▏      | 819kB 3.2MB/s eta 0:00:01\r\u001b[K     |█████████████████████████▌      | 829kB 3.2MB/s eta 0:00:01\r\u001b[K     |█████████████████████████▉      | 839kB 3.2MB/s eta 0:00:01\r\u001b[K     |██████████████████████████▏     | 849kB 3.2MB/s eta 0:00:01\r\u001b[K     |██████████████████████████▌     | 860kB 3.2MB/s eta 0:00:01\r\u001b[K     |██████████████████████████▉     | 870kB 3.2MB/s eta 0:00:01\r\u001b[K     |███████████████████████████     | 880kB 3.2MB/s eta 0:00:01\r\u001b[K     |███████████████████████████▍    | 890kB 3.2MB/s eta 0:00:01\r\u001b[K     |███████████████████████████▊    | 901kB 3.2MB/s eta 0:00:01\r\u001b[K     |████████████████████████████    | 911kB 3.2MB/s eta 0:00:01\r\u001b[K     |████████████████████████████▍   | 921kB 3.2MB/s eta 0:00:01\r\u001b[K     |████████████████████████████▊   | 931kB 3.2MB/s eta 0:00:01\r\u001b[K     |█████████████████████████████   | 942kB 3.2MB/s eta 0:00:01\r\u001b[K     |█████████████████████████████▎  | 952kB 3.2MB/s eta 0:00:01\r\u001b[K     |█████████████████████████████▋  | 962kB 3.2MB/s eta 0:00:01\r\u001b[K     |██████████████████████████████  | 972kB 3.2MB/s eta 0:00:01\r\u001b[K     |██████████████████████████████▎ | 983kB 3.2MB/s eta 0:00:01\r\u001b[K     |██████████████████████████████▋ | 993kB 3.2MB/s eta 0:00:01\r\u001b[K     |██████████████████████████████▉ | 1.0MB 3.2MB/s eta 0:00:01\r\u001b[K     |███████████████████████████████▏| 1.0MB 3.2MB/s eta 0:00:01\r\u001b[K     |███████████████████████████████▌| 1.0MB 3.2MB/s eta 0:00:01\r\u001b[K     |███████████████████████████████▉| 1.0MB 3.2MB/s eta 0:00:01\r\u001b[K     |████████████████████████████████| 1.0MB 3.2MB/s \n",
            "\u001b[?25hInstalling collected packages: sentencepiece\n",
            "Successfully installed sentencepiece-0.1.85\n"
          ],
          "name": "stdout"
        }
      ]
    },
    {
      "cell_type": "markdown",
      "metadata": {
        "id": "zsOEV_5Eth1t",
        "colab_type": "text"
      },
      "source": [
        "sentencepieceがtxtからの読み込みしかできなさそうなので，いったんtxtに起こす"
      ]
    },
    {
      "cell_type": "code",
      "metadata": {
        "id": "OzD4n3yLnQcD",
        "colab_type": "code",
        "outputId": "476ef9f5-e5b0-4be4-b3a9-8c2935f41d23",
        "colab": {
          "base_uri": "https://localhost:8080/",
          "height": 127
        }
      },
      "source": [
        "# cp932だと上手くいかなかったのでutf-8\n",
        "with open('train.txt', mode='wt', encoding='utf-8') as f:\n",
        "    for index, row in df.iterrows():\n",
        "        if index < 5:\n",
        "            print(row.preprocessed)\n",
        "        f.write(row.preprocessed + '\\n')"
      ],
      "execution_count": 0,
      "outputs": [
        {
          "output_type": "stream",
          "text": [
            "　吾輩は猫である。名前はまだ無い。\n",
            "　どこで生れたかとんと見当がつかぬ。何でも薄暗いじめじめした所でニャーニャー泣いていた事だけは記憶している。吾輩はここで始めて人間というものを見た。しかもあとで聞くとそれは書生という人間中で一番獰悪な種族であったそうだ。この書生というのは時々我々を捕えて煮て食うという話である。しかしその当時は何という考もなかったから別段恐しいとも思わなかった。ただ彼の掌に載せられてスーと持ち上げられた時何だかフワフワした感じがあったばかりである。掌の上で少し落ちついて書生の顔を見たのがいわゆる人間というものの見始であろう。この時妙なものだと思った感じが今でも残っている。第一毛をもって装飾されべきはずの顔がつるつるしてまるで薬缶だ。その後猫にもだいぶ逢ったがこんな片輪には一度も出会わした事がない。のみならず顔の真中があまりに突起している。そうしてその穴の中から時々ぷうぷうと煙を吹く。どうも咽せぽくて実に弱った。これが人間の飲む煙草というものである事はようやくこの頃知った。\n",
            "　この書生の掌の裏でしばらくはよい心持に坐っておったが、しばらくすると非常な速力で運転し始めた。書生が動くのか自分だけが動くのか分らないが無暗に眼が廻る。胸が悪くなる。到底助からないと思っていると、どさりと音がして眼から火が出た。それまでは記憶しているがあとは何の事やらいくら考え出そうとしても分らない。\n",
            "　ふと気が付いて見ると書生はいない。たくさんおった兄弟が一疋も見えぬ。肝心の母親さえ姿を隠してしまった。その上今までの所とは違って無暗に明るい。眼を明いていられぬくらいだ。はてな何でも容子がおかしいと、のそのそ這い出して見ると非常に痛い。吾輩は藁の上から急に笹原の中へ棄てられたのである。\n",
            "　ようやくの思いで笹原を這い出すと向うに大きな池がある。吾輩は池の前に坐ってどうしたらよかろうと考えて見た。別にこれという分別も出ない。しばらくして泣いたら書生がまた迎に来てくれるかと考え付いた。ニャー、ニャーと試みにやって見たが誰も来ない。そのうち池の上をさらさらと風が渡って日が暮れかかる。腹が非常に減って来た。泣きたくても声が出ない。仕方がない、何でもよいから食物のある所まであるこうと決心をしてそろりそろりと池を左りに廻り始めた。どうも非常に苦しい。そこを我慢して無理やりに這って行くとようやくの事で何となく人間臭い所へ出た。ここへ這入ったら、どうにかなると思って竹垣の崩れた穴から、とある邸内にもぐり込んだ。縁は不思議なもので、もしこの竹垣が破れていなかったなら、吾輩はついに路傍に餓死したかも知れんのである。一樹の蔭とはよく云ったものだ。この垣根の穴は今日に至るまで吾輩が隣家の三毛を訪問する時の通路になっている。さて邸へは忍び込んだもののこれから先どうして善いか分らない。そのうちに暗くなる、腹は減る、寒さは寒し、雨が降って来るという始末でもう一刻の猶予が出来なくなった。仕方がないからとにかく明るくて暖かそうな方へ方へとあるいて行く。今から考えるとその時はすでに家の内に這入っておったのだ。ここで吾輩は彼の書生以外の人間を再び見るべき機会に遭遇したのである。第一に逢ったのがおさんである。これは前の書生より一層乱暴な方で吾輩を見るや否やいきなり頸筋をつかんで表へ抛り出した。いやこれは駄目だと思ったから眼をねぶって運を天に任せていた。しかしひもじいのと寒いのにはどうしても我慢が出来ん。吾輩は再びおさんの隙を見て台所へ這い上った。すると間もなくまた投げ出された。吾輩は投げ出されては這い上り、這い上っては投げ出され、何でも同じ事を四五遍繰り返したのを記憶している。その時におさんと云う者はつくづくいやになった。この間おさんの三馬を偸んでこの返報をしてやってから、やっと胸の痞が下りた。吾輩が最後につまみ出されようとしたときに、この家の主人が騒々しい何だといいながら出て来た。下女は吾輩をぶら下げて主人の方へ向けてこの宿なしの小猫がいくら出しても出しても御台所へ上って来て困りますという。主人は鼻の下の黒い毛を撚りながら吾輩の顔をしばらく眺めておったが、やがてそんなら内へ置いてやれといったまま奥へ這入ってしまった。主人はあまり口を聞かぬ人と見えた。下女は口惜しそうに吾輩を台所へ抛り出した。かくして吾輩はついにこの家を自分の住家と極める事にしたのである。\n"
          ],
          "name": "stdout"
        }
      ]
    },
    {
      "cell_type": "code",
      "metadata": {
        "id": "5ElqtlbdufOW",
        "colab_type": "code",
        "outputId": "76e4ed34-15ed-461d-a8a7-ad660fb462cc",
        "colab": {
          "base_uri": "https://localhost:8080/",
          "height": 127
        }
      },
      "source": [
        "with open('train.txt', mode='rt', encoding='utf-8') as f:\n",
        "    for i, line in enumerate(f):\n",
        "        if i < 5:\n",
        "            print(line.strip()) # 文字化けしてない事を確認"
      ],
      "execution_count": 0,
      "outputs": [
        {
          "output_type": "stream",
          "text": [
            "吾輩は猫である。名前はまだ無い。\n",
            "どこで生れたかとんと見当がつかぬ。何でも薄暗いじめじめした所でニャーニャー泣いていた事だけは記憶している。吾輩はここで始めて人間というものを見た。しかもあとで聞くとそれは書生という人間中で一番獰悪な種族であったそうだ。この書生というのは時々我々を捕えて煮て食うという話である。しかしその当時は何という考もなかったから別段恐しいとも思わなかった。ただ彼の掌に載せられてスーと持ち上げられた時何だかフワフワした感じがあったばかりである。掌の上で少し落ちついて書生の顔を見たのがいわゆる人間というものの見始であろう。この時妙なものだと思った感じが今でも残っている。第一毛をもって装飾されべきはずの顔がつるつるしてまるで薬缶だ。その後猫にもだいぶ逢ったがこんな片輪には一度も出会わした事がない。のみならず顔の真中があまりに突起している。そうしてその穴の中から時々ぷうぷうと煙を吹く。どうも咽せぽくて実に弱った。これが人間の飲む煙草というものである事はようやくこの頃知った。\n",
            "この書生の掌の裏でしばらくはよい心持に坐っておったが、しばらくすると非常な速力で運転し始めた。書生が動くのか自分だけが動くのか分らないが無暗に眼が廻る。胸が悪くなる。到底助からないと思っていると、どさりと音がして眼から火が出た。それまでは記憶しているがあとは何の事やらいくら考え出そうとしても分らない。\n",
            "ふと気が付いて見ると書生はいない。たくさんおった兄弟が一疋も見えぬ。肝心の母親さえ姿を隠してしまった。その上今までの所とは違って無暗に明るい。眼を明いていられぬくらいだ。はてな何でも容子がおかしいと、のそのそ這い出して見ると非常に痛い。吾輩は藁の上から急に笹原の中へ棄てられたのである。\n",
            "ようやくの思いで笹原を這い出すと向うに大きな池がある。吾輩は池の前に坐ってどうしたらよかろうと考えて見た。別にこれという分別も出ない。しばらくして泣いたら書生がまた迎に来てくれるかと考え付いた。ニャー、ニャーと試みにやって見たが誰も来ない。そのうち池の上をさらさらと風が渡って日が暮れかかる。腹が非常に減って来た。泣きたくても声が出ない。仕方がない、何でもよいから食物のある所まであるこうと決心をしてそろりそろりと池を左りに廻り始めた。どうも非常に苦しい。そこを我慢して無理やりに這って行くとようやくの事で何となく人間臭い所へ出た。ここへ這入ったら、どうにかなると思って竹垣の崩れた穴から、とある邸内にもぐり込んだ。縁は不思議なもので、もしこの竹垣が破れていなかったなら、吾輩はついに路傍に餓死したかも知れんのである。一樹の蔭とはよく云ったものだ。この垣根の穴は今日に至るまで吾輩が隣家の三毛を訪問する時の通路になっている。さて邸へは忍び込んだもののこれから先どうして善いか分らない。そのうちに暗くなる、腹は減る、寒さは寒し、雨が降って来るという始末でもう一刻の猶予が出来なくなった。仕方がないからとにかく明るくて暖かそうな方へ方へとあるいて行く。今から考えるとその時はすでに家の内に這入っておったのだ。ここで吾輩は彼の書生以外の人間を再び見るべき機会に遭遇したのである。第一に逢ったのがおさんである。これは前の書生より一層乱暴な方で吾輩を見るや否やいきなり頸筋をつかんで表へ抛り出した。いやこれは駄目だと思ったから眼をねぶって運を天に任せていた。しかしひもじいのと寒いのにはどうしても我慢が出来ん。吾輩は再びおさんの隙を見て台所へ這い上った。すると間もなくまた投げ出された。吾輩は投げ出されては這い上り、這い上っては投げ出され、何でも同じ事を四五遍繰り返したのを記憶している。その時におさんと云う者はつくづくいやになった。この間おさんの三馬を偸んでこの返報をしてやってから、やっと胸の痞が下りた。吾輩が最後につまみ出されようとしたときに、この家の主人が騒々しい何だといいながら出て来た。下女は吾輩をぶら下げて主人の方へ向けてこの宿なしの小猫がいくら出しても出しても御台所へ上って来て困りますという。主人は鼻の下の黒い毛を撚りながら吾輩の顔をしばらく眺めておったが、やがてそんなら内へ置いてやれといったまま奥へ這入ってしまった。主人はあまり口を聞かぬ人と見えた。下女は口惜しそうに吾輩を台所へ抛り出した。かくして吾輩はついにこの家を自分の住家と極める事にしたのである。\n"
          ],
          "name": "stdout"
        }
      ]
    },
    {
      "cell_type": "code",
      "metadata": {
        "id": "gOEFKZ8jmUId",
        "colab_type": "code",
        "outputId": "ebde1e6a-feb1-4905-cfa0-3513ceb89739",
        "colab": {
          "base_uri": "https://localhost:8080/",
          "height": 35
        }
      },
      "source": [
        "spm.SentencePieceTrainer.Train('--input=train.txt --model_prefix=trained_model --vocab_size=8000')\n",
        "sp = spm.SentencePieceProcessor()\n",
        "sp.Load('trained_model.model')"
      ],
      "execution_count": 0,
      "outputs": [
        {
          "output_type": "execute_result",
          "data": {
            "text/plain": [
              "True"
            ]
          },
          "metadata": {
            "tags": []
          },
          "execution_count": 39
        }
      ]
    },
    {
      "cell_type": "markdown",
      "metadata": {
        "id": "emTYtXYmu1i0",
        "colab_type": "text"
      },
      "source": [
        "形態素解析の関数定義"
      ]
    },
    {
      "cell_type": "code",
      "metadata": {
        "id": "_bwRufTWuZ7e",
        "colab_type": "code",
        "colab": {}
      },
      "source": [
        "import re\n",
        "def spm_torkenizer(text):\n",
        "    text = text.replace(' ',  '')\n",
        "    text = text.replace('\\n', '')\n",
        "    text = text.replace(',', '')\n",
        "    text = text.replace('，', '') \n",
        "    splitted_list=sp.EncodeAsPieces(text)\n",
        "    output = [re.sub('▁', '', word) for word in splitted_list]\n",
        "    return output"
      ],
      "execution_count": 0,
      "outputs": []
    },
    {
      "cell_type": "code",
      "metadata": {
        "id": "iR9IgTCYuGio",
        "colab_type": "code",
        "colab": {}
      },
      "source": [
        "df['wakati_sp'] = df['preprocessed'].apply(lambda x:' '.join(spm_torkenizer(x)))"
      ],
      "execution_count": 0,
      "outputs": []
    },
    {
      "cell_type": "code",
      "metadata": {
        "id": "q3-KE9ZFuGe0",
        "colab_type": "code",
        "outputId": "4a5a8aab-d644-4489-8db1-10cbc754fd78",
        "colab": {
          "base_uri": "https://localhost:8080/",
          "height": 358
        }
      },
      "source": [
        "df.head() # 確認\n",
        "# MeCabと異なり，品詞の選択はできない"
      ],
      "execution_count": 0,
      "outputs": [
        {
          "output_type": "execute_result",
          "data": {
            "text/html": [
              "<div>\n",
              "<style scoped>\n",
              "    .dataframe tbody tr th:only-of-type {\n",
              "        vertical-align: middle;\n",
              "    }\n",
              "\n",
              "    .dataframe tbody tr th {\n",
              "        vertical-align: top;\n",
              "    }\n",
              "\n",
              "    .dataframe thead th {\n",
              "        text-align: right;\n",
              "    }\n",
              "</style>\n",
              "<table border=\"1\" class=\"dataframe\">\n",
              "  <thead>\n",
              "    <tr style=\"text-align: right;\">\n",
              "      <th></th>\n",
              "      <th>raw</th>\n",
              "      <th>preprocessed</th>\n",
              "      <th>wakati_mecab</th>\n",
              "      <th>wakati_sp</th>\n",
              "    </tr>\n",
              "  </thead>\n",
              "  <tbody>\n",
              "    <tr>\n",
              "      <th>0</th>\n",
              "      <td>吾輩《わがはい》は猫である。名前はまだ無い。</td>\n",
              "      <td>吾輩は猫である。名前はまだ無い。</td>\n",
              "      <td>猫 名前 無い</td>\n",
              "      <td>吾輩は猫である 。 名前はまだ 無い 。</td>\n",
              "    </tr>\n",
              "    <tr>\n",
              "      <th>1</th>\n",
              "      <td>どこで生れたかとんと見当《けんとう》がつかぬ。何でも薄暗いじめじめした所でニャーニャー泣い...</td>\n",
              "      <td>どこで生れたかとんと見当がつかぬ。何でも薄暗いじめじめした所でニャーニャー泣いていた事だけ...</td>\n",
              "      <td>生れる 見当 つく 薄暗い する 泣く いた事 記憶 する 始める 人間 見る あと 聞く ...</td>\n",
              "      <td>どこ で 生れ た かと んと 見当 が つか ぬ 。 何でも 薄暗 い じ め じ め ...</td>\n",
              "    </tr>\n",
              "    <tr>\n",
              "      <th>2</th>\n",
              "      <td>この書生の掌の裏《うち》でしばらくはよい心持に坐っておったが、しばらくすると非常な速力で運...</td>\n",
              "      <td>この書生の掌の裏でしばらくはよい心持に坐っておったが、しばらくすると非常な速力で運転し始め...</td>\n",
              "      <td>書生 掌 裏 よい 心持 坐る おる する 非常 速力 運転 する 書生 動く 自分 動く ...</td>\n",
              "      <td>この 書生 の 掌 の 裏 で しばらく は よい 心持 に 坐って おった が 、 しば...</td>\n",
              "    </tr>\n",
              "    <tr>\n",
              "      <th>3</th>\n",
              "      <td>ふと気が付いて見ると書生はいない。たくさんおった兄弟が一｜疋《ぴき》も見えぬ。肝心《かんじ...</td>\n",
              "      <td>ふと気が付いて見ると書生はいない。たくさんおった兄弟が一疋も見えぬ。肝心の母親さえ姿を隠し...</td>\n",
              "      <td>気 付く 見る 書生 いる たくさん おる 兄弟 一疋 見える 肝心 母親 姿 隠す 上今 ...</td>\n",
              "      <td>ふと 気が 付いて 見ると 書生 は いない 。 た く さん おった 兄 弟 が一 疋 ...</td>\n",
              "    </tr>\n",
              "    <tr>\n",
              "      <th>4</th>\n",
              "      <td>ようやくの思いで笹原を這い出すと向うに大きな池がある。吾輩は池の前に坐ってどうしたらよかろ...</td>\n",
              "      <td>ようやくの思いで笹原を這い出すと向うに大きな池がある。吾輩は池の前に坐ってどうしたらよかろ...</td>\n",
              "      <td>思い 笹原 這い出す 向う 池 ある 池 前 坐る する よい 考える 見る 分別 出る す...</td>\n",
              "      <td>ようやく の 思い で 笹原 を 這 い 出すと 向う に 大きな 池 がある 。 吾輩は...</td>\n",
              "    </tr>\n",
              "  </tbody>\n",
              "</table>\n",
              "</div>"
            ],
            "text/plain": [
              "                                                 raw  ...                                          wakati_sp\n",
              "0                            　吾輩《わがはい》は猫である。名前はまだ無い。  ...                               吾輩は猫である 。 名前はまだ 無い 。\n",
              "1  　どこで生れたかとんと見当《けんとう》がつかぬ。何でも薄暗いじめじめした所でニャーニャー泣い...  ...   どこ で 生れ た かと んと 見当 が つか ぬ 。 何でも 薄暗 い じ め じ め ...\n",
              "2  　この書生の掌の裏《うち》でしばらくはよい心持に坐っておったが、しばらくすると非常な速力で運...  ...   この 書生 の 掌 の 裏 で しばらく は よい 心持 に 坐って おった が 、 しば...\n",
              "3  　ふと気が付いて見ると書生はいない。たくさんおった兄弟が一｜疋《ぴき》も見えぬ。肝心《かんじ...  ...   ふと 気が 付いて 見ると 書生 は いない 。 た く さん おった 兄 弟 が一 疋 ...\n",
              "4  　ようやくの思いで笹原を這い出すと向うに大きな池がある。吾輩は池の前に坐ってどうしたらよかろ...  ...   ようやく の 思い で 笹原 を 這 い 出すと 向う に 大きな 池 がある 。 吾輩は...\n",
              "\n",
              "[5 rows x 4 columns]"
            ]
          },
          "metadata": {
            "tags": []
          },
          "execution_count": 43
        }
      ]
    },
    {
      "cell_type": "markdown",
      "metadata": {
        "id": "o4EZ7JdMvgT4",
        "colab_type": "text"
      },
      "source": [
        "# 保存"
      ]
    },
    {
      "cell_type": "code",
      "metadata": {
        "id": "TOYg4Y6OuGbN",
        "colab_type": "code",
        "colab": {}
      },
      "source": [
        "df.to_csv('/content/drive/My Drive/Colaboratory_file/NLP/neko_wakati.csv', header=True, index=False)"
      ],
      "execution_count": 0,
      "outputs": []
    },
    {
      "cell_type": "code",
      "metadata": {
        "id": "I-Jb6EwjmUGB",
        "colab_type": "code",
        "outputId": "944d4b27-eb32-47bd-9630-7de7ade1c9b2",
        "colab": {
          "base_uri": "https://localhost:8080/",
          "height": 358
        }
      },
      "source": [
        "test_df = pd.read_csv('/content/drive/My Drive/Colaboratory_file/NLP/neko_wakati.csv')\n",
        "test_df.head() # 確認"
      ],
      "execution_count": 0,
      "outputs": [
        {
          "output_type": "execute_result",
          "data": {
            "text/html": [
              "<div>\n",
              "<style scoped>\n",
              "    .dataframe tbody tr th:only-of-type {\n",
              "        vertical-align: middle;\n",
              "    }\n",
              "\n",
              "    .dataframe tbody tr th {\n",
              "        vertical-align: top;\n",
              "    }\n",
              "\n",
              "    .dataframe thead th {\n",
              "        text-align: right;\n",
              "    }\n",
              "</style>\n",
              "<table border=\"1\" class=\"dataframe\">\n",
              "  <thead>\n",
              "    <tr style=\"text-align: right;\">\n",
              "      <th></th>\n",
              "      <th>raw</th>\n",
              "      <th>preprocessed</th>\n",
              "      <th>wakati_mecab</th>\n",
              "      <th>wakati_sp</th>\n",
              "    </tr>\n",
              "  </thead>\n",
              "  <tbody>\n",
              "    <tr>\n",
              "      <th>0</th>\n",
              "      <td>吾輩《わがはい》は猫である。名前はまだ無い。</td>\n",
              "      <td>吾輩は猫である。名前はまだ無い。</td>\n",
              "      <td>猫 名前 無い</td>\n",
              "      <td>吾輩は猫である 。 名前はまだ 無い 。</td>\n",
              "    </tr>\n",
              "    <tr>\n",
              "      <th>1</th>\n",
              "      <td>どこで生れたかとんと見当《けんとう》がつかぬ。何でも薄暗いじめじめした所でニャーニャー泣い...</td>\n",
              "      <td>どこで生れたかとんと見当がつかぬ。何でも薄暗いじめじめした所でニャーニャー泣いていた事だけ...</td>\n",
              "      <td>生れる 見当 つく 薄暗い する 泣く いた事 記憶 する 始める 人間 見る あと 聞く ...</td>\n",
              "      <td>どこ で 生れ た かと んと 見当 が つか ぬ 。 何でも 薄暗 い じ め じ め ...</td>\n",
              "    </tr>\n",
              "    <tr>\n",
              "      <th>2</th>\n",
              "      <td>この書生の掌の裏《うち》でしばらくはよい心持に坐っておったが、しばらくすると非常な速力で運...</td>\n",
              "      <td>この書生の掌の裏でしばらくはよい心持に坐っておったが、しばらくすると非常な速力で運転し始め...</td>\n",
              "      <td>書生 掌 裏 よい 心持 坐る おる する 非常 速力 運転 する 書生 動く 自分 動く ...</td>\n",
              "      <td>この 書生 の 掌 の 裏 で しばらく は よい 心持 に 坐って おった が 、 しば...</td>\n",
              "    </tr>\n",
              "    <tr>\n",
              "      <th>3</th>\n",
              "      <td>ふと気が付いて見ると書生はいない。たくさんおった兄弟が一｜疋《ぴき》も見えぬ。肝心《かんじ...</td>\n",
              "      <td>ふと気が付いて見ると書生はいない。たくさんおった兄弟が一疋も見えぬ。肝心の母親さえ姿を隠し...</td>\n",
              "      <td>気 付く 見る 書生 いる たくさん おる 兄弟 一疋 見える 肝心 母親 姿 隠す 上今 ...</td>\n",
              "      <td>ふと 気が 付いて 見ると 書生 は いない 。 た く さん おった 兄 弟 が一 疋 ...</td>\n",
              "    </tr>\n",
              "    <tr>\n",
              "      <th>4</th>\n",
              "      <td>ようやくの思いで笹原を這い出すと向うに大きな池がある。吾輩は池の前に坐ってどうしたらよかろ...</td>\n",
              "      <td>ようやくの思いで笹原を這い出すと向うに大きな池がある。吾輩は池の前に坐ってどうしたらよかろ...</td>\n",
              "      <td>思い 笹原 這い出す 向う 池 ある 池 前 坐る する よい 考える 見る 分別 出る す...</td>\n",
              "      <td>ようやく の 思い で 笹原 を 這 い 出すと 向う に 大きな 池 がある 。 吾輩は...</td>\n",
              "    </tr>\n",
              "  </tbody>\n",
              "</table>\n",
              "</div>"
            ],
            "text/plain": [
              "                                                 raw  ...                                          wakati_sp\n",
              "0                            　吾輩《わがはい》は猫である。名前はまだ無い。  ...                               吾輩は猫である 。 名前はまだ 無い 。\n",
              "1  　どこで生れたかとんと見当《けんとう》がつかぬ。何でも薄暗いじめじめした所でニャーニャー泣い...  ...   どこ で 生れ た かと んと 見当 が つか ぬ 。 何でも 薄暗 い じ め じ め ...\n",
              "2  　この書生の掌の裏《うち》でしばらくはよい心持に坐っておったが、しばらくすると非常な速力で運...  ...   この 書生 の 掌 の 裏 で しばらく は よい 心持 に 坐って おった が 、 しば...\n",
              "3  　ふと気が付いて見ると書生はいない。たくさんおった兄弟が一｜疋《ぴき》も見えぬ。肝心《かんじ...  ...   ふと 気が 付いて 見ると 書生 は いない 。 た く さん おった 兄 弟 が一 疋 ...\n",
              "4  　ようやくの思いで笹原を這い出すと向うに大きな池がある。吾輩は池の前に坐ってどうしたらよかろ...  ...   ようやく の 思い で 笹原 を 這 い 出すと 向う に 大きな 池 がある 。 吾輩は...\n",
              "\n",
              "[5 rows x 4 columns]"
            ]
          },
          "metadata": {
            "tags": []
          },
          "execution_count": 45
        }
      ]
    }
  ]
}
